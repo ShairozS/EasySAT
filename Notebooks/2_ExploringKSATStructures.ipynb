{
 "cells": [
  {
   "cell_type": "code",
   "execution_count": null,
   "id": "a4f966cf-1c76-462a-9c95-da75a708eeba",
   "metadata": {},
   "outputs": [],
   "source": []
  },
  {
   "cell_type": "code",
   "execution_count": 1,
   "id": "56292528-f03a-48ae-b116-deba77553e16",
   "metadata": {},
   "outputs": [
    {
     "name": "stdout",
     "output_type": "stream",
     "text": [
      "C:\\Users\\shairozs\\Documents\\Projects\\ExploringKSAT\n"
     ]
    }
   ],
   "source": [
    "## Send hardest problems through LLMs\n",
    "\n",
    "import random\n",
    "import time\n",
    "import itertools\n",
    "import numpy as np\n",
    "import os\n",
    "import numpy as np\n",
    "import json\n",
    "from tqdm import tqdm\n",
    "from pysat.solvers import Glucose42, Minicard, Lingeling, Cadical153, Minisat22,MapleChrono, Mergesat3\n",
    "os.chdir('..')\n",
    "print(os.getcwd()) # Should be ...\\ExploringKSAT\n",
    "\n",
    "from Code.generators import KSAT_Generator\n",
    "from Code.solvers import brute_force, dpll\n",
    "ksg = KSAT_Generator()\n",
    "#ksg.kcnf_to_cnf(hardest_problem[1]]"
   ]
  },
  {
   "cell_type": "markdown",
   "id": "025148c6-81f5-428a-acfc-ba503d86720e",
   "metadata": {},
   "source": [
    "## Importing KSAT Statements\n",
    "--------"
   ]
  },
  {
   "cell_type": "code",
   "execution_count": 2,
   "id": "68c0fdc5-e3e2-49bb-b337-62f7028d05c7",
   "metadata": {},
   "outputs": [
    {
     "name": "stdout",
     "output_type": "stream",
     "text": [
      " FILE: aim-50-1_6-no-1.nf\n",
      "\n",
      "\n",
      "\n",
      " SOURCE: Kazuo Iwama, Eiji Miyano (miyano@su.kyushu-u.a.jp),\n",
      "\n",
      "          and Yuihi Asahiro\n",
      "\n",
      "\n",
      "\n",
      " DESCRIPTION: Artifial instanes from generator by soure.  Generators\n",
      "\n",
      "              and more information in sat/ontributed/iwama.\n",
      "\n",
      "\n",
      "\n",
      " NOTE: Not Satisfiable\n",
      "\n",
      "\n",
      "\n"
     ]
    }
   ],
   "source": [
    "ksg = KSAT_Generator()\n",
    "samp = r\"C:\\Users\\TEMP\\Downloads\\aim.tar\\aim\\aim-50-1_6-no-1.cnf\"\n",
    "samp_clauses = ksg.from_dimacs_file(samp)"
   ]
  },
  {
   "cell_type": "code",
   "execution_count": 3,
   "id": "39ae197f-ceec-4203-97f1-4fcc405e21da",
   "metadata": {},
   "outputs": [
    {
     "data": {
      "text/plain": [
       "[-3, -4, -35]"
      ]
     },
     "execution_count": 3,
     "metadata": {},
     "output_type": "execute_result"
    }
   ],
   "source": [
    "samp_clauses[-1]"
   ]
  },
  {
   "cell_type": "code",
   "execution_count": 13,
   "id": "f7f565e5-7a5a-4b66-b258-b012f1ebe553",
   "metadata": {},
   "outputs": [
    {
     "name": "stdout",
     "output_type": "stream",
     "text": [
      "Unique variables:  {1, 2, 3, 4, 5, 6, 7, 8, 9, 10, 11, 12, 13, 14, 15, 16, 17, 18, 19, 20, 21, 22, 23, 24, 25, 26, 27, 28, 29, 30, 31, 32, 33, 34, 35, 36, 37, 38, 39, 40, 41, 42, 43, 44, 45, 46, 47, 48, 49, 50, -14, -50, -49, -48, -47, -46, -45, -44, -43, -42, -41, -40, -39, -38, -37, -36, -35, -34, -33, -32, -31, -30, -29, -28, -27, -26, -25, -24, -23, -22, -21, -20, -19, -18, -17, -16, -15, -4, -13, -12, -11, -10, -9, -8, -7, -6, -5, -1, -3, -2}\n",
      "{50: 100, -50: -100, 49: 99, -49: -99, 48: 98, -48: -98, 47: 97, -47: -97, 46: 96, -46: -96, 45: 95, -45: -95, 44: 94, -44: -94, 43: 93, -43: -93, 42: 92, -42: -92, 41: 91, -41: -91, 40: 90, -40: -90, 39: 89, -39: -89, 38: 88, -38: -88, 37: 87, -37: -87, 36: 86, -36: -86, 35: 85, -35: -85, 34: 84, -34: -84, 33: 83, -33: -83, 32: 82, -32: -82, 31: 81, -31: -81, 30: 80, -30: -80, 29: 79, -29: -79, 28: 78, -28: -78, 27: 77, -27: -77, 26: 76, -26: -76, 25: 75, -25: -75, 24: 74, -24: -74, 23: 73, -23: -73, 22: 72, -22: -72, 21: 71, -21: -71, 20: 70, -20: -70, 19: 69, -19: -69, 18: 68, -18: -68, 17: 67, -17: -67, 16: 66, -16: -66, 15: 65, -15: -65, 14: 64, -14: -64, 13: 63, -13: -63, 12: 62, -12: -62, 11: 61, -11: -61, 10: 60, -10: -60, 9: 59, -9: -59, 8: 58, -8: -58, 7: 57, -7: -57, 6: 56, -6: -56, 5: 55, -5: -55, 4: 54, -4: -54, 3: 53, -3: -53, 2: 52, -2: -52, 1: 51, -1: -51}\n"
     ]
    }
   ],
   "source": [
    "mat = ksg.cnf_to_matrix(samp_clauses).T"
   ]
  },
  {
   "cell_type": "code",
   "execution_count": 14,
   "id": "52f90284-9eba-440b-bfc5-00ae3396ad7c",
   "metadata": {},
   "outputs": [
    {
     "data": {
      "text/plain": [
       "<matplotlib.image.AxesImage at 0x1e283a20170>"
      ]
     },
     "execution_count": 14,
     "metadata": {},
     "output_type": "execute_result"
    },
    {
     "data": {
      "image/png": "[encoded data removed]",
      "text/plain": [
       "<Figure size 640x480 with 1 Axes>"
      ]
     },
     "metadata": {},
     "output_type": "display_data"
    }
   ],
   "source": [
    "import matplotlib.pyplot as plt\n",
    "plt.imshow(mat)"
   ]
  },
  {
   "cell_type": "code",
   "execution_count": 12,
   "id": "6e8b724f-2b14-4e17-a2c5-f15eb75b837e",
   "metadata": {},
   "outputs": [
    {
     "data": {
      "text/plain": [
       "array([ 2.,  0.,  0.,  0.,  0.,  0.,  0.,  0.,  0.,  0.,  0.,  0.,  0.,\n",
       "        0.,  0.,  0.,  0., -1.,  0.,  0.,  1.,  0.,  0.,  0.,  0.,  0.,\n",
       "        0.,  0.,  0.,  0.,  0., -1.,  0.,  0.,  0.,  0.,  0.,  0.,  0.,\n",
       "        0.,  0.,  0.,  0.,  0.,  0.,  1.,  0.,  0.,  0.,  0.])"
      ]
     },
     "execution_count": 12,
     "metadata": {},
     "output_type": "execute_result"
    }
   ],
   "source": [
    "np.sum(mat[:, np.where(mat[0,:] == 1)[0]], axis = 1)"
   ]
  },
  {
   "cell_type": "code",
   "execution_count": 38,
   "id": "ff485da8-8752-485e-b4ed-26f9869ac8b8",
   "metadata": {},
   "outputs": [],
   "source": [
    "## For each row\n",
    "rowscores = {}\n",
    "for i in range(mat.shape[0]):\n",
    "\n",
    "    # What variables are positive\n",
    "    positives = np.where(mat[i, :] == 1)[0]\n",
    "    \n",
    "    # How many other statements involve the positive variables\n",
    "    score = 0\n",
    "    for p in positives:\n",
    "        #score += np.sum(np.abs(mat[:, p])) - 1\n",
    "        score += np.sum(np.clip(mat[:, p], 0, 1)) - 1\n",
    "    # Assign the row a score\n",
    "    rowscores[i] = score #+ np.random.rand(0, 1)"
   ]
  },
  {
   "cell_type": "code",
   "execution_count": 39,
   "id": "9c9a2531-663b-4d82-a2e2-be9a9b7aeea9",
   "metadata": {},
   "outputs": [],
   "source": [
    "rowscores_sorted = {k: v for k, v in sorted(rowscores.items(), key=lambda item: item[1])}"
   ]
  },
  {
   "cell_type": "code",
   "execution_count": 40,
   "id": "9cde7f17-3eeb-4c70-844f-2d7af659f274",
   "metadata": {},
   "outputs": [],
   "source": [
    "newmat = np.zeros(mat.shape)\n",
    "i = 0\n",
    "for k in reversed(list(rowscores_sorted.keys())):\n",
    "    newmat[i,:] = mat[k,:]\n",
    "    i += 1"
   ]
  },
  {
   "cell_type": "code",
   "execution_count": 44,
   "id": "2eac4e50-24a5-4c4d-9896-da6e3652eac2",
   "metadata": {},
   "outputs": [
    {
     "data": {
      "text/plain": [
       "<matplotlib.image.AxesImage at 0x1e285ef5d30>"
      ]
     },
     "execution_count": 44,
     "metadata": {},
     "output_type": "execute_result"
    },
    {
     "data": {
      "image/png": "[encoded data removed]",
      "text/plain": [
       "<Figure size 2000x1000 with 1 Axes>"
      ]
     },
     "metadata": {},
     "output_type": "display_data"
    }
   ],
   "source": [
    "plt.subplots(figsize = (20,10))\n",
    "plt.imshow(newmat, 'gray')"
   ]
  },
  {
   "cell_type": "code",
   "execution_count": null,
   "id": "52328bb1-ffbb-4956-ac1d-7de7e8052727",
   "metadata": {},
   "outputs": [],
   "source": []
  }
 ],
 "metadata": {
  "kernelspec": {
   "display_name": "Python 3 (ipykernel)",
   "language": "python",
   "name": "python3"
  },
  "language_info": {
   "codemirror_mode": {
    "name": "ipython",
    "version": 3
   },
   "file_extension": ".py",
   "mimetype": "text/x-python",
   "name": "python",
   "nbconvert_exporter": "python",
   "pygments_lexer": "ipython3",
   "version": "3.12.3"
  }
 },
 "nbformat": 4,
 "nbformat_minor": 5
}
